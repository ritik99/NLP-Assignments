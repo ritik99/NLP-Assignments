{
 "cells": [
  {
   "cell_type": "code",
   "execution_count": 1,
   "metadata": {},
   "outputs": [],
   "source": [
    "import nltk, re, pprint\n",
    "from urllib import request\n",
    "from collections import Counter\n",
    "import numpy as np\n",
    "url = 'http://www.gutenberg.org/cache/epub/1661/pg1661.txt'\n",
    "response = request.urlopen(url)\n",
    "raw = response.read().decode('utf8')"
   ]
  },
  {
   "cell_type": "code",
   "execution_count": 3,
   "metadata": {},
   "outputs": [],
   "source": [
    "raw = raw.replace('Project Gutenberg\\'s The Adventures of Sherlock Holmes, by Arthur Conan Doyle', '')\n",
    "raw = raw.replace('This eBook is for the use of anyone anywhere at no cost and with', '')\n",
    "raw = raw.replace('almost no restrictions whatsoever.  You may copy it, give it away or', '')\n",
    "raw = raw.replace('re-use it under the terms of the Project Gutenberg License included', '')\n",
    "raw = raw.replace('with this eBook or online at www.gutenberg.net', '')\n",
    "raw = raw.replace('Title: The Adventures of Sherlock Holmes', '')\n",
    "raw = raw.replace('Title: The Adventures of Sherlock Holmes', '')\n",
    "raw = raw.replace('Author: Arthur Conan Doyle', '')\n",
    "raw = raw.replace('Posting Date: April 18, 2011 [EBook #1661]', '')\n",
    "raw = raw.replace('First Posted: November 29, 2002', '')\n",
    "raw = raw.replace('Language: English', '')\n",
    "raw = raw.replace('*** START OF THIS PROJECT GUTENBERG EBOOK THE ADVENTURES OF SHERLOCK HOLMES ***', '')\n",
    "raw = raw.replace('Produced by an anonymous Project Gutenberg volunteer and Jose Menendez', '')\n",
    "raw = raw.replace('THE ADVENTURES OF SHERLOCK HOLMES', '')\n",
    "raw = raw.replace('by', '')\n",
    "raw = raw.replace('SIR ARTHUR CONAN DOYLE', '')\n",
    "raw = raw.replace('I. A Scandal in Bohemia', '')\n",
    "raw = raw.replace('II. The Red-headed League', '')\n",
    "raw = raw.replace('III. A Case of Identity', '')\n",
    "raw = raw.replace('IV. The Boscombe Valley Mystery', '')\n",
    "raw = raw.replace('V. The Five Orange Pips', '')\n",
    "raw = raw.replace('VI. The Man with the Twisted Lip', '')\n",
    "raw = raw.replace('VII. The Adventure of the Blue Carbuncle', '')\n",
    "raw = raw.replace('VIII. The Adventure of the Speckled Band', '')\n",
    "raw = raw.replace('IX. The Adventure of the Engineer\\'s Thumb', '')\n",
    "raw = raw.replace('X. The Adventure of the Noble Bachelor', '')\n",
    "raw = raw.replace('XI. The Adventure of the Beryl Coronet','')\n",
    "raw = raw.replace('XII. The Adventure of the Copper Beeches', '')\n",
    "raw = raw.replace(',', '')\n",
    "raw = raw.replace(';', '')\n",
    "raw = raw.replace(':', '')\n",
    "raw = raw.replace('!', ' ')\n",
    "raw = raw.replace('\\\"', ' ')\n",
    "raw = raw.replace('\\'', ' ')\n",
    "raw = raw.replace('-' , ' ')\n",
    "\n",
    "t = nltk.sent_tokenize(raw)"
   ]
  },
  {
   "cell_type": "code",
   "execution_count": 5,
   "metadata": {
    "scrolled": true
   },
   "outputs": [],
   "source": [
    "tt = []\n",
    "size = 0\n",
    "for line in t:\n",
    "    temp = line.replace('\\r', ' ')\n",
    "    temp = temp.replace('\\n', ' ')\n",
    "    temp = '<s> ' + temp\n",
    "    temp = temp.replace('.', ' </s>')\n",
    "    temp = temp.replace('?', ' </s>')\n",
    "    size += len(line.split())\n",
    "    tt.append(temp)"
   ]
  },
  {
   "cell_type": "code",
   "execution_count": 6,
   "metadata": {},
   "outputs": [],
   "source": [
    "import sklearn\n",
    "train, test = sklearn.model_selection.train_test_split(tt, train_size = 0.8, test_size = 0.2)"
   ]
  },
  {
   "cell_type": "code",
   "execution_count": 7,
   "metadata": {},
   "outputs": [
    {
     "name": "stdout",
     "output_type": "stream",
     "text": [
      "5248\n"
     ]
    }
   ],
   "source": [
    "print(len(train))"
   ]
  },
  {
   "cell_type": "code",
   "execution_count": 8,
   "metadata": {},
   "outputs": [
    {
     "name": "stdout",
     "output_type": "stream",
     "text": [
      "<s> He had evidently been carried down  two  persons one of whom had remarkably small feet and the other  unusually large ones </s>\n"
     ]
    }
   ],
   "source": [
    "unigram_count = {}      #stores the unigram model\n",
    "bigram_count = {}       #stores the bigram model\n",
    "trigram_count = {}      #stores the trigram model\n",
    "quadgram_count = {}     #stores the quadgram model\n",
    "\n",
    "token_count = 0\n",
    "word_count = {}         #single word count\n",
    "two_word_count = {}     #double word count\n",
    "three_word_count = {}   #three word count\n",
    "four_word_count = {}    #four word count\n",
    "\n",
    "total_word_count = 0\n",
    "\n",
    "\n",
    "for line in train:\n",
    "    for word in line.split():\n",
    "        try:\n",
    "            word_count[word] += 1\n",
    "        except:\n",
    "            word_count[word] = 1\n",
    "\n",
    "            \n",
    "types = list(word_count.keys())\n",
    "\n",
    "for i in range(len(types)):\n",
    "    for j in range(i+1, len(types)):\n",
    "        two_word_count[(types[i], types[j])] = 0\n",
    "        two_word_count[(types[j], types[i])] = 0\n",
    "for i in word_count.keys():\n",
    "    total_word_count += word_count[i]\n",
    "    \n",
    "    \n",
    "for line in train:\n",
    "    t = line.split()\n",
    "    for i in range(1, len(t)):\n",
    "        if t[i] == 'feet' and t[i-1] == 'small':\n",
    "            print(line)\n",
    "        temp = (t[i-1], t[i])\n",
    "        try:\n",
    "            two_word_count[temp] += 1\n",
    "        except:\n",
    "            two_word_count[temp] = 1\n",
    "\n",
    "\n",
    "for line in train:\n",
    "    t = line.split()\n",
    "    for i in range(2, len(t)):\n",
    "        temp = (t[i-2], t[i-1], t[i])\n",
    "        try:\n",
    "            three_word_count[temp] += 1\n",
    "        except:\n",
    "            three_word_count[temp] = 1\n",
    "\n",
    "\n",
    "for line in train:\n",
    "    t = line.split()\n",
    "    for i in range(3, len(t)):\n",
    "        temp = (t[i-3], t[i-2], t[i-1], t[i])\n",
    "        try:\n",
    "            four_word_count[temp] += 1\n",
    "        except:\n",
    "            four_word_count[temp] = 1\n",
    "\n",
    "\n",
    "\n",
    "for word in word_count.keys():\n",
    "    token_count += word_count[word]\n"
   ]
  },
  {
   "cell_type": "code",
   "execution_count": 9,
   "metadata": {},
   "outputs": [
    {
     "data": {
      "text/plain": [
       "1"
      ]
     },
     "execution_count": 9,
     "metadata": {},
     "output_type": "execute_result"
    }
   ],
   "source": [
    "two_word_count[('small', 'feet')]"
   ]
  },
  {
   "cell_type": "code",
   "execution_count": 22,
   "metadata": {},
   "outputs": [],
   "source": [
    "def unigram():\n",
    "    for line in train:\n",
    "        temp = line.split()\n",
    "        for i in range(0, len(temp)):\n",
    "            temp1 = temp[i]\n",
    "            if temp1 not in unigram_count.keys():\n",
    "                unigram_count[temp1] = word_count[temp1]/total_word_count\n",
    "def bigram():\n",
    "    for line in train:\n",
    "        temp = line.split()\n",
    "        for i in range(1, len(temp)):\n",
    "            temp1 = (temp[i-1], temp[i])\n",
    "            if temp1 not in bigram_count.keys():\n",
    "                bigram_count[temp1] = two_word_count[temp1]/word_count[temp[i-1]]\n",
    "                \n",
    "                \n",
    "def trigram():\n",
    "    for line in train:\n",
    "        temp = line.split()\n",
    "        for i in range(2, len(temp)):\n",
    "            temp1 = (temp[i-2], temp[i-1], temp[i])\n",
    "            if temp1 not in trigram_count.keys():\n",
    "                trigram_count[temp1] = three_word_count[temp1]/two_word_count[(temp[i-2], temp[i-1])]\n",
    "\n",
    "def quadgram():\n",
    "    for line in train:\n",
    "        temp = line.split()\n",
    "        for i in range(3, len(temp)):\n",
    "            temp1 = (temp[i-3], temp[i-2], temp[i-1], temp[i])\n",
    "            if temp1 not in quadgram_count.keys():\n",
    "                quadgram_count[temp1] = four_word_count[temp1]/three_word_count[(temp[i-3], temp[i-2], temp[i-1])]           \n"
   ]
  },
  {
   "cell_type": "code",
   "execution_count": 23,
   "metadata": {},
   "outputs": [],
   "source": [
    "unigram()\n",
    "bigram()\n",
    "trigram()\n",
    "quadgram()"
   ]
  },
  {
   "cell_type": "code",
   "execution_count": 24,
   "metadata": {},
   "outputs": [
    {
     "name": "stdout",
     "output_type": "stream",
     "text": [
      "7925\n"
     ]
    }
   ],
   "source": [
    "print(len(types))"
   ]
  },
  {
   "cell_type": "code",
   "execution_count": 25,
   "metadata": {},
   "outputs": [],
   "source": [
    "def generate(model):\n",
    "    min_len = 8\n",
    "    max_len = 15\n",
    "    sent = []\n",
    "    if model == \"unigram\":\n",
    "        sent_length = 0\n",
    "        while(sent_length < 15):\n",
    "            temp = np.random.choice(list(unigram_count.keys()), 1, list(unigram_count.values()))[0]\n",
    "            temp = str(temp)\n",
    "            if temp == \"</s>\":\n",
    "                if len(sent) >= 8:\n",
    "                    sent.append(temp)\n",
    "                    sent_length += 1\n",
    "                    break\n",
    "            else:\n",
    "                sent_length += 1\n",
    "                sent.append(temp)\n",
    "        if sent_length == 15 and sent[14] != \"</s>\":\n",
    "            sent.append(\"</s>\")\n",
    "    \n",
    "    elif model == \"bigram\":\n",
    "        sent.append(\"<s>\")\n",
    "        sent_length = 1\n",
    "        attempts = 0\n",
    "        while sent_length < 15:\n",
    "            print(sent)\n",
    "            possible_words= []\n",
    "            possible_probabilities = []\n",
    "            for bigram in bigram_count.keys():\n",
    "                if bigram[0] == sent[sent_length - 1]:\n",
    "                    possible_words.append(bigram[1])\n",
    "                    possible_probabilities.append(bigram_count[bigram])\n",
    "            temp = np.random.choice(possible_words, 1, possible_probabilities)[0]\n",
    "            temp = str(temp)\n",
    "            if temp == \"</s>\":\n",
    "                attempts += 1\n",
    "                if len(sent) >= 8:\n",
    "                    sent.append(temp)\n",
    "                    sent_length += 1\n",
    "                    break\n",
    "                elif attempts == 20:\n",
    "                    sent.append(temp)\n",
    "                    break\n",
    "            else:\n",
    "                attempts = 0\n",
    "                sent_length += 1\n",
    "                sent.append(temp)\n",
    "        if sent_length == 15 and sent[14] != \"</s>\":\n",
    "            sent.append(\"</s>\")\n",
    "            \n",
    "    elif model == \"trigram\":\n",
    "        possible_start = []\n",
    "        possible_probabilities = []\n",
    "        denominator = 0\n",
    "        for val in two_word_count.values():\n",
    "            denominator += val\n",
    "        for temp in two_word_count.keys():\n",
    "            if temp[0] == \"<s>\":\n",
    "                possible_start.append(temp)\n",
    "                possible_probabilities.append(two_word_count[temp]/denominator)\n",
    "        start = np.random.choice(list(range(len(possible_start))), 1, possible_probabilities)[0]\n",
    "        sent.append(possible_start[start][0])\n",
    "        sent.append(possible_start[start][1])\n",
    "        sent_length = 2\n",
    "        attempts = 0\n",
    "        while sent_length < 15:\n",
    "            #print(sent)\n",
    "            possible_words= []\n",
    "            possible_probabilities = []\n",
    "            for trigram in trigram_count.keys():\n",
    "                if trigram[0] == sent[sent_length - 2] and trigram[1] == sent[sent_length - 1]:\n",
    "                    possible_words.append(trigram[2])\n",
    "                    possible_probabilities.append(trigram_count[trigram])\n",
    "            temp = np.random.choice(possible_words, 1, possible_probabilities)[0]\n",
    "            temp = str(temp)\n",
    "            if temp == \"</s>\":\n",
    "                attempts += 1\n",
    "                if len(sent) >= 8:\n",
    "                    sent.append(temp)\n",
    "                    sent_length += 1\n",
    "                    break\n",
    "                elif attempts == 20:\n",
    "                    sent.append(temp)\n",
    "                    break\n",
    "            else:\n",
    "                attempts = 0\n",
    "                sent_length += 1\n",
    "                sent.append(temp)\n",
    "        if sent_length == 15 and sent[14] != \"</s>\":\n",
    "            sent.append(\"</s>\")\n",
    "            \n",
    "    elif model == \"quadgram\":\n",
    "        possible_start = []\n",
    "        possible_probabilities = []\n",
    "        denominator = 0\n",
    "        for val in three_word_count.values():\n",
    "            denominator += val\n",
    "        for temp in three_word_count.keys():\n",
    "            if temp[0] == \"<s>\":\n",
    "                possible_start.append(temp)\n",
    "                possible_probabilities.append(three_word_count[temp]/denominator)\n",
    "        start = np.random.choice(list(range(len(possible_start))), 1, possible_probabilities)[0]\n",
    "        sent.append(possible_start[start][0])\n",
    "        sent.append(possible_start[start][1])\n",
    "        sent.append(possible_start[start][2])\n",
    "        sent_length = 3\n",
    "        #print(sent)\n",
    "        attempts = 0\n",
    "        while sent_length < 15:\n",
    "            #print(sent)\n",
    "            possible_words= []\n",
    "            possible_probabilities = []\n",
    "            for quadgram in quadgram_count.keys():\n",
    "                if quadgram[0] == sent[sent_length - 3] and quadgram[1] == sent[sent_length - 2] and quadgram[2] == sent[sent_length - 1]:\n",
    "                    #print(\"HERE\")\n",
    "                    possible_words.append(quadgram[3])\n",
    "                    possible_probabilities.append(quadgram_count[quadgram])\n",
    "            if len(possible_words) == 0:\n",
    "                sentence = generate(\"quadgram\")\n",
    "                return sentence\n",
    "            temp = np.random.choice(possible_words, 1, possible_probabilities)[0]\n",
    "            temp = str(temp)\n",
    "            if temp == \"</s>\":\n",
    "                attempts += 1\n",
    "                if len(sent) >= 8:\n",
    "                    sent.append(temp)\n",
    "                    sent_length += 1\n",
    "                    break\n",
    "                elif attempts == 20:\n",
    "                    sent.append(temp)\n",
    "                    break\n",
    "            else:\n",
    "                attempts = 0\n",
    "                sent_length += 1\n",
    "                sent.append(temp)\n",
    "        if sent_length == 15 and sent[14] != \"</s>\":\n",
    "            sent.append(\"</s>\")\n",
    "                    \n",
    "        \n",
    "    \n",
    "    sentence = sent[0]\n",
    "    for i in range(1, len(sent)):\n",
    "        sentence = sentence + \" \" + sent[i]\n",
    "    return sentence\n",
    "        \n",
    "        \n",
    "        "
   ]
  },
  {
   "cell_type": "code",
   "execution_count": 26,
   "metadata": {},
   "outputs": [
    {
     "data": {
      "text/plain": [
       "'<s> No for it was considerably after midnight </s>'"
      ]
     },
     "execution_count": 26,
     "metadata": {},
     "output_type": "execute_result"
    }
   ],
   "source": [
    "generate(\"quadgram\")"
   ]
  },
  {
   "cell_type": "code",
   "execution_count": 27,
   "metadata": {},
   "outputs": [],
   "source": [
    "def probability(sentence, model):\n",
    "    if model == \"unigram\":\n",
    "        temp = sentence.split()\n",
    "        ans = 0\n",
    "        for word in temp:\n",
    "            try:\n",
    "                ans += np.log(unigram_count[word])\n",
    "            except:\n",
    "                return 0\n",
    "    elif model == \"bigram\":\n",
    "        temp = sentence.split()\n",
    "        ans = 0\n",
    "        for i in range(1, len(temp)):\n",
    "            try:\n",
    "                ans += np.log(bigram_count[(temp[i-1], temp[i])])\n",
    "            except:\n",
    "                return 0\n",
    "    \n",
    "    elif model == \"trigram\":\n",
    "        temp = sentence.split()\n",
    "        ans = 0\n",
    "        for i in range(2, len(temp)):\n",
    "            try:\n",
    "                ans += np.log(trigram_count[(temp[i-2], temp[i-1], temp[i])])\n",
    "            except:\n",
    "                return 0\n",
    "    elif model == \"quadgram\":\n",
    "        temp = sentence.split()\n",
    "        ans = 0\n",
    "        for i in range(3, len(temp)):\n",
    "            try:\n",
    "                ans += np.log(quadgram_count[(temp[i-3], temp[i-2], temp[i-1], temp[i])])\n",
    "            except:\n",
    "                print('here')\n",
    "                return 0\n",
    "    return ans\n",
    "            "
   ]
  },
  {
   "cell_type": "code",
   "execution_count": 28,
   "metadata": {},
   "outputs": [
    {
     "data": {
      "text/plain": [
       "-7.768956044538331"
      ]
     },
     "execution_count": 28,
     "metadata": {},
     "output_type": "execute_result"
    }
   ],
   "source": [
    "probability(\"I never went wrong before I never will again\", \"trigram\")"
   ]
  },
  {
   "cell_type": "code",
   "execution_count": 29,
   "metadata": {},
   "outputs": [
    {
     "name": "stdout",
     "output_type": "stream",
     "text": [
      "Hi\n"
     ]
    }
   ],
   "source": [
    "new_bigram_model = {}\n",
    "for i in range(len(types)):\n",
    "    for j in range(i, len(types)):\n",
    "        try:\n",
    "            new_bigram_model[(types[i], types[j])] = (two_word_count[(types[i], types[j])] + 1)/(word_count[types[i]] + len(types))\n",
    "        except:\n",
    "            new_bigram_model[(types[i], types[j])] = (1)/(word_count[types[i]] + len(types))\n",
    "print('Hi')\n",
    "for i in range(len(types)):\n",
    "    for j in range(i, len(types)):\n",
    "        try:\n",
    "            new_bigram_model[(types[j], types[i])] = (two_word_count[(types[j], types[i])] + 1)/(word_count[types[j]] + len(types))\n",
    "        except:\n",
    "            new_bigram_model[(types[j], types[i])] = 1/(word_count[types[j]] + len(types))\n",
    "            \n",
    "        \n",
    "            "
   ]
  },
  {
   "cell_type": "code",
   "execution_count": 36,
   "metadata": {},
   "outputs": [
    {
     "name": "stdout",
     "output_type": "stream",
     "text": [
      "{236: 1, 0: 62753747, 1: 33431, 165: 2, 90: 1, 13: 58, 77: 1, 358: 1, 134: 3, 26: 23, 774: 1, 7: 255, 3: 1844, 42: 2, 24: 18, 256: 1, 34: 7, 17: 43, 15: 46, 8: 208, 69: 3, 205: 1, 2: 5175, 12: 93, 5: 534, 102: 2, 10: 124, 16: 42, 14: 55, 74: 1, 79: 3, 44: 7, 66: 1, 63: 3, 68: 5, 6: 379, 4: 980, 33: 10, 76: 3, 32: 10, 56: 1, 43: 3, 59: 5, 22: 20, 9: 159, 29: 13, 11: 95, 30: 13, 20: 32, 23: 23, 31: 4, 21: 28, 19: 24, 18: 26, 37: 6, 97: 2, 131: 1, 89: 1, 54: 5, 58: 2, 573: 1, 103: 1, 125: 2, 45: 4, 46: 3, 41: 5, 159: 1, 170: 1, 55: 3, 48: 4, 25: 7, 27: 12, 62: 1, 393: 1, 252: 1, 112: 1, 100: 1, 123: 1, 85: 1, 86: 1, 179: 1, 114: 1, 36: 2, 28: 13, 51: 2, 91: 2, 96: 1, 210: 1, 148: 1, 50: 3, 52: 2, 94: 1, 39: 5, 35: 2, 99: 1, 65: 2, 107: 1, 71: 2, 88: 1, 119: 2, 57: 3, 139: 1, 108: 1, 110: 1, 143: 1, 113: 1, 38: 5, 126: 1, 81: 1, 47: 4, 240: 1, 198: 1, 82: 1, 78: 2, 150: 1, 141: 1, 40: 3, 93: 1, 117: 1, 64: 1, 49: 1}\n",
      "{236: 1, 0: 62753747, 1: 33431, 165: 2, 90: 1, 13: 58, 77: 1, 358: 1, 134: 3, 26: 23, 774: 1, 7: 255, 3: 1844, 42: 2, 24: 18, 256: 1, 34: 7, 17: 43, 15: 46, 8: 208, 69: 3, 205: 1, 2: 5175, 12: 93, 5: 534, 102: 2, 10: 124, 16: 42, 14: 55, 74: 1, 79: 3, 44: 7, 66: 1, 63: 3, 68: 5, 6: 379, 4: 980, 33: 10, 76: 3, 32: 10, 56: 1, 43: 3, 59: 5, 22: 20, 9: 159, 29: 13, 11: 95, 30: 13, 20: 32, 23: 23, 31: 4, 21: 28, 19: 24, 18: 26, 37: 6, 97: 2, 131: 1, 89: 1, 54: 5, 58: 2, 573: 1, 103: 1, 125: 2, 45: 4, 46: 3, 41: 5, 159: 1, 170: 1, 55: 3, 48: 4, 25: 7, 27: 12, 62: 1, 393: 1, 252: 1, 112: 1, 100: 1, 123: 1, 85: 1, 86: 1, 179: 1, 114: 1, 36: 2, 28: 13, 51: 2, 91: 2, 96: 1, 210: 1, 148: 1, 50: 3, 52: 2, 94: 1, 39: 5, 35: 2, 99: 1, 65: 2, 107: 1, 71: 2, 88: 1, 119: 2, 57: 3, 139: 1, 108: 1, 110: 1, 143: 1, 113: 1, 38: 5, 126: 1, 81: 1, 47: 4, 240: 1, 198: 1, 82: 1, 78: 2, 150: 1, 141: 1, 40: 3, 93: 1, 117: 1, 64: 1, 49: 1}\n",
      "{0: 0.0005327331290671775, 1: 0.3095928928240256, 2: 1.0689855072463768, 3: 2.125813449023861, 4: 2.7244897959183674, 5: 4.258426966292135, 6: 4.7097625329815305, 7: 6.525490196078431, 8: 6.8798076923076925, 9: 7.79874213836478, 10: 8.42741935483871}\n"
     ]
    }
   ],
   "source": [
    "smooth_bigram_model = {}\n",
    "freq_ofreq = {}\n",
    "for freq in two_word_count.values():\n",
    "    try:\n",
    "        freq_ofreq[freq] += 1\n",
    "    except:\n",
    "        freq_ofreq[freq] = 1\n",
    "        \n",
    "max_bigram_count = len(types)*len(types)\n",
    "print(freq_ofreq)\n",
    "\n",
    "new_freq_ofreq = {}\n",
    "for freq in range(0, 11):\n",
    "    new_freq_ofreq[freq] = (freq_ofreq[freq+1]*(freq+1))/freq_ofreq[freq]\n",
    "\n",
    "print(freq_ofreq)\n",
    "print(new_freq_ofreq)\n",
    "                "
   ]
  },
  {
   "cell_type": "code",
   "execution_count": 47,
   "metadata": {},
   "outputs": [
    {
     "name": "stdout",
     "output_type": "stream",
     "text": [
      "0.9310144927536232\n",
      "0.8741865509761388\n",
      "1.2755102040816326\n",
      "0.7415730337078648\n",
      "1.2902374670184695\n",
      "0.4745098039215687\n",
      "1.1201923076923075\n",
      "1.20125786163522\n",
      "1.57258064516129\n",
      "Average  0.861914760631647\n",
      "486.2966906222397\n"
     ]
    }
   ],
   "source": [
    "temp = 0\n",
    "for i in range(2, 11):\n",
    "    temp += i - new_freq_ofreq[i]\n",
    "    print(i - new_freq_ofreq[i])\n",
    "print(\"Average \", temp/11)\n",
    "D = temp/11\n",
    "for freq in freq_ofreq.keys():\n",
    "    if freq not in new_freq_ofreq.keys():\n",
    "        new_freq_ofreq[freq] = freq - D\n",
    "\n",
    "        \n",
    "s = 0\n",
    "num_words = 0\n",
    "for line in test:\n",
    "    temp = line.split()\n",
    "    num_words += len(temp)\n",
    "    temp1 = 0\n",
    "    for i in range(1, len(temp)):\n",
    "        try:\n",
    "            temp3 = two_word_count[(temp[i-1], temp[i])]\n",
    "        except:\n",
    "            temp3 = 0\n",
    "        two_count = new_freq_ofreq[temp3]\n",
    "        try:\n",
    "            temp1 += np.log(two_count/word_count[temp[i-1]])\n",
    "        except:\n",
    "            #print(\"here shit\")\n",
    "            temp1 += np.log(two_count)\n",
    "    s += temp1\n",
    "\n",
    "print(np.exp(-1*(s/num_words)))\n",
    "    "
   ]
  },
  {
   "cell_type": "code",
   "execution_count": null,
   "metadata": {},
   "outputs": [],
   "source": []
  }
 ],
 "metadata": {
  "kernelspec": {
   "display_name": "Python 3",
   "language": "python",
   "name": "python3"
  },
  "language_info": {
   "codemirror_mode": {
    "name": "ipython",
    "version": 3
   },
   "file_extension": ".py",
   "mimetype": "text/x-python",
   "name": "python",
   "nbconvert_exporter": "python",
   "pygments_lexer": "ipython3",
   "version": "3.6.5"
  }
 },
 "nbformat": 4,
 "nbformat_minor": 2
}
